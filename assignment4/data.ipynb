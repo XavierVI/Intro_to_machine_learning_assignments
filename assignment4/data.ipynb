{
 "cells": [
  {
   "cell_type": "code",
   "execution_count": 1,
   "id": "208b3c4e",
   "metadata": {},
   "outputs": [],
   "source": [
    "import pandas as pd\n",
    "\n",
    "from sklearn.feature_extraction.text import TfidfVectorizer"
   ]
  },
  {
   "cell_type": "markdown",
   "id": "eefe1553",
   "metadata": {},
   "source": [
    "# Finding a good number of max features"
   ]
  },
  {
   "cell_type": "code",
   "execution_count": 1,
   "id": "b8d2c096",
   "metadata": {},
   "outputs": [
    {
     "data": {
      "text/plain": [
       "7.450580596923828"
      ]
     },
     "execution_count": 1,
     "metadata": {},
     "output_type": "execute_result"
    }
   ],
   "source": [
    "# GiB = 50_000 * max_features * 8 / 20^30\n",
    "50_000 * 20_000 * 8 / 2**30"
   ]
  },
  {
   "cell_type": "code",
   "execution_count": 6,
   "id": "af29f7d1",
   "metadata": {},
   "outputs": [
    {
     "name": "stderr",
     "output_type": "stream",
     "text": [
      "/home/xavier/miniconda3/envs/pytorch2/lib/python3.13/site-packages/sklearn/feature_extraction/text.py:517: UserWarning: The parameter 'token_pattern' will not be used since 'tokenizer' is not None'\n",
      "  warnings.warn(\n"
     ]
    },
    {
     "data": {
      "text/plain": [
       "<Compressed Sparse Row sparse matrix of dtype 'float64'\n",
       "\twith 6999905 stored elements and shape (50000, 104203)>"
      ]
     },
     "execution_count": 6,
     "metadata": {},
     "output_type": "execute_result"
    }
   ],
   "source": [
    "df = pd.read_csv('./movie_data.csv')\n",
    "\n",
    "vectorizer = TfidfVectorizer(\n",
    "    tokenizer=lambda text: text.split())\n",
    "features = vectorizer.fit_transform(df['review'])\n",
    "features"
   ]
  },
  {
   "cell_type": "code",
   "execution_count": 5,
   "id": "84b0368a",
   "metadata": {},
   "outputs": [
    {
     "name": "stderr",
     "output_type": "stream",
     "text": [
      "/home/xavier/miniconda3/envs/pytorch2/lib/python3.13/site-packages/sklearn/feature_extraction/text.py:517: UserWarning: The parameter 'token_pattern' will not be used since 'tokenizer' is not None'\n",
      "  warnings.warn(\n"
     ]
    },
    {
     "data": {
      "text/plain": [
       "<Compressed Sparse Row sparse matrix of dtype 'float64'\n",
       "\twith 6448704 stored elements and shape (50000, 10000)>"
      ]
     },
     "execution_count": 5,
     "metadata": {},
     "output_type": "execute_result"
    }
   ],
   "source": [
    "df = pd.read_csv('./movie_data.csv')\n",
    "\n",
    "vectorizer = TfidfVectorizer(\n",
    "    tokenizer=lambda text: text.split(), max_features=10_000)\n",
    "features = vectorizer.fit_transform(df['review'])\n",
    "features"
   ]
  },
  {
   "cell_type": "code",
   "execution_count": 7,
   "id": "e979c4cd",
   "metadata": {},
   "outputs": [
    {
     "name": "stderr",
     "output_type": "stream",
     "text": [
      "/home/xavier/miniconda3/envs/pytorch2/lib/python3.13/site-packages/sklearn/feature_extraction/text.py:517: UserWarning: The parameter 'token_pattern' will not be used since 'tokenizer' is not None'\n",
      "  warnings.warn(\n"
     ]
    },
    {
     "data": {
      "text/plain": [
       "<Compressed Sparse Row sparse matrix of dtype 'float64'\n",
       "\twith 6740949 stored elements and shape (50000, 20000)>"
      ]
     },
     "execution_count": 7,
     "metadata": {},
     "output_type": "execute_result"
    }
   ],
   "source": [
    "df = pd.read_csv('./movie_data.csv')\n",
    "\n",
    "vectorizer = TfidfVectorizer(\n",
    "    tokenizer=lambda text: text.split(), max_features=20_000)\n",
    "features = vectorizer.fit_transform(df['review'])\n",
    "features"
   ]
  },
  {
   "cell_type": "code",
   "execution_count": 14,
   "id": "837a4f48",
   "metadata": {},
   "outputs": [
    {
     "name": "stderr",
     "output_type": "stream",
     "text": [
      "/home/xavier/miniconda3/envs/pytorch2/lib/python3.13/site-packages/sklearn/feature_extraction/text.py:517: UserWarning: The parameter 'token_pattern' will not be used since 'tokenizer' is not None'\n",
      "  warnings.warn(\n"
     ]
    },
    {
     "data": {
      "text/plain": [
       "<Compressed Sparse Row sparse matrix of dtype 'float64'\n",
       "\twith 6806309 stored elements and shape (50000, 25000)>"
      ]
     },
     "execution_count": 14,
     "metadata": {},
     "output_type": "execute_result"
    }
   ],
   "source": [
    "df = pd.read_csv('./movie_data.csv')\n",
    "\n",
    "vectorizer = TfidfVectorizer(\n",
    "    tokenizer=lambda text: text.split(), max_features=25_000)\n",
    "features = vectorizer.fit_transform(df['review'])\n",
    "features"
   ]
  },
  {
   "cell_type": "code",
   "execution_count": null,
   "id": "10542b0c",
   "metadata": {},
   "outputs": [
    {
     "name": "stderr",
     "output_type": "stream",
     "text": [
      "/home/xavier/miniconda3/envs/pytorch2/lib/python3.13/site-packages/sklearn/feature_extraction/text.py:517: UserWarning: The parameter 'token_pattern' will not be used since 'tokenizer' is not None'\n",
      "  warnings.warn(\n"
     ]
    },
    {
     "name": "stdout",
     "output_type": "stream",
     "text": [
      "number of GiB: 11.175870895385742\n"
     ]
    }
   ],
   "source": [
    "df = pd.read_csv('./movie_data.csv')\n",
    "\n",
    "vectorizer = TfidfVectorizer(\n",
    "    tokenizer=lambda text: text.split(), max_features=30_000)\n",
    "features = vectorizer.fit_transform(df['review'])\n",
    "features"
   ]
  },
  {
   "cell_type": "code",
   "execution_count": 7,
   "id": "13505622",
   "metadata": {},
   "outputs": [
    {
     "name": "stdout",
     "output_type": "stream",
     "text": [
      "tensor([[ 0.3085,  2.0030,  1.1079, -0.4071],\n",
      "        [-0.6281,  0.1047, -0.4955, -0.1481],\n",
      "        [ 0.9825, -0.6186, -0.7723,  0.2431],\n",
      "        [ 0.2170,  1.3590, -0.5405,  0.2989]])\n"
     ]
    },
    {
     "data": {
      "text/plain": [
       "tensor([2.0030, 0.1047, 0.9825, 1.3590])"
      ]
     },
     "execution_count": 7,
     "metadata": {},
     "output_type": "execute_result"
    }
   ],
   "source": [
    "import torch\n",
    "\n",
    "tensor = torch.randn(size=(4, 4))\n",
    "print(tensor)\n",
    "values, indices = torch.max(tensor, dim=1)\n",
    "values"
   ]
  }
 ],
 "metadata": {
  "kernelspec": {
   "display_name": "pytorch2",
   "language": "python",
   "name": "python3"
  },
  "language_info": {
   "codemirror_mode": {
    "name": "ipython",
    "version": 3
   },
   "file_extension": ".py",
   "mimetype": "text/x-python",
   "name": "python",
   "nbconvert_exporter": "python",
   "pygments_lexer": "ipython3",
   "version": "3.13.2"
  }
 },
 "nbformat": 4,
 "nbformat_minor": 5
}
