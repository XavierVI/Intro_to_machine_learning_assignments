{
 "cells": [
  {
   "cell_type": "code",
   "execution_count": 33,
   "metadata": {},
   "outputs": [],
   "source": [
    "import numpy as np\n",
    "from task1 import *"
   ]
  },
  {
   "cell_type": "markdown",
   "metadata": {},
   "source": [
    "## Understanding partitioning\n",
    "\n"
   ]
  },
  {
   "cell_type": "markdown",
   "metadata": {},
   "source": [
    "The goal of using partitioning is to avoid splitting a copy of the entire dataset to each individual node while building the tree.\n",
    "\n",
    "Let $X$ denote our dataset and let $\\vec{x}$ denote a sample in $X$.\n",
    "\n",
    "Assume we've found a sample $\\vec{x}^{(s)} \\in X$ to split the data. This means we want to split the data along at the sample $\\vec{x}^{(s)} along the feature $f$. One way we could do this is to partition the dataset into two separate datasets $X_{l}$ and $X_{r}$.\n",
    "\n",
    "The way we do this is by computing the following. For each sample in $X$, if $\\vec{x}_{f} < \\vec{x}^{(s)}_{f}$ then it goes into $X_{l}$, otherwise, it goes into $X_{r}$. Where this becomes efficient is we can simply store the\n",
    "indices for these samples instead of the samples themselves. For numpy, the easier way is to create a boolean mask for the rows we want in each partition.\n",
    "\n",
    "The following code is an example of how this works."
   ]
  },
  {
   "cell_type": "code",
   "execution_count": 36,
   "metadata": {},
   "outputs": [
    {
     "data": {
      "text/plain": [
       "array([[ 5, 18,  7, 10],\n",
       "       [15, 13,  2, 16],\n",
       "       [12,  5,  6,  2],\n",
       "       [18,  4,  1,  0]])"
      ]
     },
     "execution_count": 36,
     "metadata": {},
     "output_type": "execute_result"
    }
   ],
   "source": [
    "# creating an array of random integers\n",
    "X = np.random.default_rng().integers(20, size=(4, 4))\n",
    "X"
   ]
  },
  {
   "cell_type": "code",
   "execution_count": 37,
   "metadata": {},
   "outputs": [
    {
     "data": {
      "text/plain": [
       "array([[12,  5,  6,  2],\n",
       "       [18,  4,  1,  0]])"
      ]
     },
     "execution_count": 37,
     "metadata": {},
     "output_type": "execute_result"
    }
   ],
   "source": [
    "# let's say we want to partition the data along the 2nd feature\n",
    "# and the sample we are splitting the data at is the second sample\n",
    "f = 1 # second feature\n",
    "split_value = X[1, f] # second sample (second row)\n",
    "mask = X[:, f] < split_value\n",
    "mask\n",
    "X_l = X[mask]\n",
    "X_l"
   ]
  }
 ],
 "metadata": {
  "kernelspec": {
   "display_name": "base",
   "language": "python",
   "name": "python3"
  },
  "language_info": {
   "codemirror_mode": {
    "name": "ipython",
    "version": 3
   },
   "file_extension": ".py",
   "mimetype": "text/x-python",
   "name": "python",
   "nbconvert_exporter": "python",
   "pygments_lexer": "ipython3",
   "version": "3.12.3"
  }
 },
 "nbformat": 4,
 "nbformat_minor": 2
}
