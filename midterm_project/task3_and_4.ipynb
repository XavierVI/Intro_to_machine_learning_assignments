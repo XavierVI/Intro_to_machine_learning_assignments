{
 "cells": [
  {
   "cell_type": "markdown",
   "metadata": {},
   "source": [
    "## Understanding the problem"
   ]
  },
  {
   "cell_type": "markdown",
   "metadata": {},
   "source": [
    "We have a time dynamical system whose state is described by two variables, $x$ and $v$.\n",
    "\n",
    "The question asks how we can approximate these time dynamical systems using a regression tree when the data is in the form\n",
    "$$\n",
    "((x_k, v_k), (x_{k+1}, v_{k+1}))\n",
    "$$\n",
    "\n",
    "We could use a single tree to make predictions for the next state, but we would get more accurate results if we used multiple regression trees each with a limited height?"
   ]
  },
  {
   "cell_type": "code",
   "execution_count": null,
   "metadata": {},
   "outputs": [],
   "source": []
  },
  {
   "cell_type": "markdown",
   "metadata": {},
   "source": [
    "## Code for task 4"
   ]
  },
  {
   "cell_type": "code",
   "execution_count": 1,
   "metadata": {},
   "outputs": [],
   "source": [
    "from task1 import *\n",
    "\n",
    "# generating data\n",
    "T = np.arange(0, 20)\n",
    "\n",
    "# initial state\n",
    "x_k = np.array([0.5, 1.5])\n",
    "\n",
    "# creating an array of data\n",
    "# shape: (number of time steps (rows), number of entries in each row, dimension of each column (previous state and next state))\n",
    "X = np.zeros((T.size, 2, 2))\n",
    "\n",
    "for t in T:\n",
    "    X[t, 0, :] = x_k\n",
    "    # creating next state\n",
    "    X[t, 1, 0] = 0.9*x_k[0] - 0.2*x_k[1]\n",
    "    X[t, 1, 1] = 0.2*x_k[0] + 0.9*x_k[1]\n",
    "    x_k = X[t, 1, :]\n",
    "\n",
    "y = X[:, 1, 0]\n",
    "X = X[:, 0]"
   ]
  },
  {
   "cell_type": "code",
   "execution_count": 2,
   "metadata": {},
   "outputs": [
    {
     "name": "stdout",
     "output_type": "stream",
     "text": [
      "[ 0.15  -0.155]\n"
     ]
    },
    {
     "data": {
      "text/plain": [
       "-0.002500000000000044"
      ]
     },
     "execution_count": 2,
     "metadata": {},
     "output_type": "execute_result"
    }
   ],
   "source": [
    "print(y[0:2])\n",
    "np.mean(y[0:2], axis=0)"
   ]
  },
  {
   "cell_type": "code",
   "execution_count": 3,
   "metadata": {},
   "outputs": [
    {
     "name": "stdout",
     "output_type": "stream",
     "text": [
      "Length of queue: 1\n",
      "x[0] >= -0.31973391403185003\n",
      "x[0] >= -0.15500000000000005\n",
      "x[0] >= 0.14999999999999997\n",
      "x[0] >= 0.14999999999999997\n",
      "x == 0.19788404900569195\n",
      "0.14999999999999997\n"
     ]
    },
    {
     "name": "stderr",
     "output_type": "stream",
     "text": [
      "/home/xavier/miniconda3/lib/python3.12/site-packages/numpy/core/fromnumeric.py:3787: RuntimeWarning: Degrees of freedom <= 0 for slice\n",
      "  return _methods._var(a, axis=axis, dtype=dtype, out=out, ddof=ddof,\n",
      "/home/xavier/miniconda3/lib/python3.12/site-packages/numpy/core/_methods.py:163: RuntimeWarning: invalid value encountered in divide\n",
      "  arrmean = um.true_divide(arrmean, div, out=arrmean,\n",
      "/home/xavier/miniconda3/lib/python3.12/site-packages/numpy/core/_methods.py:198: RuntimeWarning: invalid value encountered in scalar divide\n",
      "  ret = ret.dtype.type(ret / rcount)\n",
      "/home/xavier/miniconda3/lib/python3.12/site-packages/numpy/core/fromnumeric.py:3504: RuntimeWarning: Mean of empty slice.\n",
      "  return _methods._mean(a, axis=axis, dtype=dtype,\n",
      "/home/xavier/miniconda3/lib/python3.12/site-packages/numpy/core/_methods.py:129: RuntimeWarning: invalid value encountered in scalar divide\n",
      "  ret = ret.dtype.type(ret / rcount)\n"
     ]
    }
   ],
   "source": [
    "model = RegressionTree()\n",
    "model.fit(X, y)\n",
    "model.decision_path([0.5, 1.5])\n",
    "print(y[0])"
   ]
  }
 ],
 "metadata": {
  "kernelspec": {
   "display_name": "base",
   "language": "python",
   "name": "python3"
  },
  "language_info": {
   "codemirror_mode": {
    "name": "ipython",
    "version": 3
   },
   "file_extension": ".py",
   "mimetype": "text/x-python",
   "name": "python",
   "nbconvert_exporter": "python",
   "pygments_lexer": "ipython3",
   "version": "3.12.3"
  }
 },
 "nbformat": 4,
 "nbformat_minor": 2
}
